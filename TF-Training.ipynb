{
 "cells": [
  {
   "cell_type": "code",
   "execution_count": 1,
   "metadata": {
    "executionInfo": {
     "elapsed": 727,
     "status": "ok",
     "timestamp": 1676109282814,
     "user": {
      "displayName": "JAYARAJ VISWANATHAN",
      "userId": "05592669160963016277"
     },
     "user_tz": -330
    },
    "id": "Kux2-AW25MTh"
   },
   "outputs": [],
   "source": [
    "import numpy as np\n",
    "import pandas as pd\n",
    "import matplotlib.pyplot as plt"
   ]
  },
  {
   "cell_type": "code",
   "execution_count": 2,
   "metadata": {
    "executionInfo": {
     "elapsed": 853,
     "status": "ok",
     "timestamp": 1676109416429,
     "user": {
      "displayName": "JAYARAJ VISWANATHAN",
      "userId": "05592669160963016277"
     },
     "user_tz": -330
    },
    "id": "YC13U0-05TG1"
   },
   "outputs": [],
   "source": [
    "train_data = pd.read_csv(r'C:/Users/karthick/Downloads/Crop_recommendation.csv')"
   ]
  },
  {
   "cell_type": "code",
   "execution_count": 3,
   "metadata": {
    "colab": {
     "base_uri": "https://localhost:8080/",
     "height": 684
    },
    "executionInfo": {
     "elapsed": 8,
     "status": "ok",
     "timestamp": 1676109418002,
     "user": {
      "displayName": "JAYARAJ VISWANATHAN",
      "userId": "05592669160963016277"
     },
     "user_tz": -330
    },
    "id": "8M99ixAZ5evP",
    "outputId": "098ce2ae-213c-4d81-895b-74a036fd1183"
   },
   "outputs": [
    {
     "name": "stdout",
     "output_type": "stream",
     "text": [
      "<class 'pandas.core.frame.DataFrame'>\n",
      "RangeIndex: 2200 entries, 0 to 2199\n",
      "Data columns (total 8 columns):\n",
      " #   Column       Non-Null Count  Dtype  \n",
      "---  ------       --------------  -----  \n",
      " 0   N            2200 non-null   int64  \n",
      " 1   P            2200 non-null   int64  \n",
      " 2   K            2200 non-null   int64  \n",
      " 3   temperature  2200 non-null   float64\n",
      " 4   humidity     2200 non-null   float64\n",
      " 5   ph           2200 non-null   float64\n",
      " 6   rainfall     2200 non-null   float64\n",
      " 7   label        2200 non-null   object \n",
      "dtypes: float64(4), int64(3), object(1)\n",
      "memory usage: 137.6+ KB\n"
     ]
    },
    {
     "data": {
      "text/html": [
       "<div>\n",
       "<style scoped>\n",
       "    .dataframe tbody tr th:only-of-type {\n",
       "        vertical-align: middle;\n",
       "    }\n",
       "\n",
       "    .dataframe tbody tr th {\n",
       "        vertical-align: top;\n",
       "    }\n",
       "\n",
       "    .dataframe thead th {\n",
       "        text-align: right;\n",
       "    }\n",
       "</style>\n",
       "<table border=\"1\" class=\"dataframe\">\n",
       "  <thead>\n",
       "    <tr style=\"text-align: right;\">\n",
       "      <th></th>\n",
       "      <th>N</th>\n",
       "      <th>P</th>\n",
       "      <th>K</th>\n",
       "      <th>temperature</th>\n",
       "      <th>humidity</th>\n",
       "      <th>ph</th>\n",
       "      <th>rainfall</th>\n",
       "      <th>label</th>\n",
       "    </tr>\n",
       "  </thead>\n",
       "  <tbody>\n",
       "    <tr>\n",
       "      <th>0</th>\n",
       "      <td>90</td>\n",
       "      <td>42</td>\n",
       "      <td>43</td>\n",
       "      <td>20.879744</td>\n",
       "      <td>82.002744</td>\n",
       "      <td>6.502985</td>\n",
       "      <td>202.935536</td>\n",
       "      <td>rice</td>\n",
       "    </tr>\n",
       "    <tr>\n",
       "      <th>1</th>\n",
       "      <td>85</td>\n",
       "      <td>58</td>\n",
       "      <td>41</td>\n",
       "      <td>21.770462</td>\n",
       "      <td>80.319644</td>\n",
       "      <td>7.038096</td>\n",
       "      <td>226.655537</td>\n",
       "      <td>rice</td>\n",
       "    </tr>\n",
       "    <tr>\n",
       "      <th>2</th>\n",
       "      <td>60</td>\n",
       "      <td>55</td>\n",
       "      <td>44</td>\n",
       "      <td>23.004459</td>\n",
       "      <td>82.320763</td>\n",
       "      <td>7.840207</td>\n",
       "      <td>263.964248</td>\n",
       "      <td>rice</td>\n",
       "    </tr>\n",
       "    <tr>\n",
       "      <th>3</th>\n",
       "      <td>74</td>\n",
       "      <td>35</td>\n",
       "      <td>40</td>\n",
       "      <td>26.491096</td>\n",
       "      <td>80.158363</td>\n",
       "      <td>6.980401</td>\n",
       "      <td>242.864034</td>\n",
       "      <td>rice</td>\n",
       "    </tr>\n",
       "    <tr>\n",
       "      <th>4</th>\n",
       "      <td>78</td>\n",
       "      <td>42</td>\n",
       "      <td>42</td>\n",
       "      <td>20.130175</td>\n",
       "      <td>81.604873</td>\n",
       "      <td>7.628473</td>\n",
       "      <td>262.717340</td>\n",
       "      <td>rice</td>\n",
       "    </tr>\n",
       "    <tr>\n",
       "      <th>...</th>\n",
       "      <td>...</td>\n",
       "      <td>...</td>\n",
       "      <td>...</td>\n",
       "      <td>...</td>\n",
       "      <td>...</td>\n",
       "      <td>...</td>\n",
       "      <td>...</td>\n",
       "      <td>...</td>\n",
       "    </tr>\n",
       "    <tr>\n",
       "      <th>2195</th>\n",
       "      <td>107</td>\n",
       "      <td>34</td>\n",
       "      <td>32</td>\n",
       "      <td>26.774637</td>\n",
       "      <td>66.413269</td>\n",
       "      <td>6.780064</td>\n",
       "      <td>177.774507</td>\n",
       "      <td>coffee</td>\n",
       "    </tr>\n",
       "    <tr>\n",
       "      <th>2196</th>\n",
       "      <td>99</td>\n",
       "      <td>15</td>\n",
       "      <td>27</td>\n",
       "      <td>27.417112</td>\n",
       "      <td>56.636362</td>\n",
       "      <td>6.086922</td>\n",
       "      <td>127.924610</td>\n",
       "      <td>coffee</td>\n",
       "    </tr>\n",
       "    <tr>\n",
       "      <th>2197</th>\n",
       "      <td>118</td>\n",
       "      <td>33</td>\n",
       "      <td>30</td>\n",
       "      <td>24.131797</td>\n",
       "      <td>67.225123</td>\n",
       "      <td>6.362608</td>\n",
       "      <td>173.322839</td>\n",
       "      <td>coffee</td>\n",
       "    </tr>\n",
       "    <tr>\n",
       "      <th>2198</th>\n",
       "      <td>117</td>\n",
       "      <td>32</td>\n",
       "      <td>34</td>\n",
       "      <td>26.272418</td>\n",
       "      <td>52.127394</td>\n",
       "      <td>6.758793</td>\n",
       "      <td>127.175293</td>\n",
       "      <td>coffee</td>\n",
       "    </tr>\n",
       "    <tr>\n",
       "      <th>2199</th>\n",
       "      <td>104</td>\n",
       "      <td>18</td>\n",
       "      <td>30</td>\n",
       "      <td>23.603016</td>\n",
       "      <td>60.396475</td>\n",
       "      <td>6.779833</td>\n",
       "      <td>140.937041</td>\n",
       "      <td>coffee</td>\n",
       "    </tr>\n",
       "  </tbody>\n",
       "</table>\n",
       "<p>2200 rows × 8 columns</p>\n",
       "</div>"
      ],
      "text/plain": [
       "        N   P   K  temperature   humidity        ph    rainfall   label\n",
       "0      90  42  43    20.879744  82.002744  6.502985  202.935536    rice\n",
       "1      85  58  41    21.770462  80.319644  7.038096  226.655537    rice\n",
       "2      60  55  44    23.004459  82.320763  7.840207  263.964248    rice\n",
       "3      74  35  40    26.491096  80.158363  6.980401  242.864034    rice\n",
       "4      78  42  42    20.130175  81.604873  7.628473  262.717340    rice\n",
       "...   ...  ..  ..          ...        ...       ...         ...     ...\n",
       "2195  107  34  32    26.774637  66.413269  6.780064  177.774507  coffee\n",
       "2196   99  15  27    27.417112  56.636362  6.086922  127.924610  coffee\n",
       "2197  118  33  30    24.131797  67.225123  6.362608  173.322839  coffee\n",
       "2198  117  32  34    26.272418  52.127394  6.758793  127.175293  coffee\n",
       "2199  104  18  30    23.603016  60.396475  6.779833  140.937041  coffee\n",
       "\n",
       "[2200 rows x 8 columns]"
      ]
     },
     "execution_count": 3,
     "metadata": {},
     "output_type": "execute_result"
    }
   ],
   "source": [
    "train_data.head()\n",
    "train_data.info()\n",
    "train_data.isnull().any()\n",
    "train_data"
   ]
  },
  {
   "cell_type": "code",
   "execution_count": 4,
   "metadata": {
    "colab": {
     "base_uri": "https://localhost:8080/"
    },
    "executionInfo": {
     "elapsed": 2,
     "status": "ok",
     "timestamp": 1676109420126,
     "user": {
      "displayName": "JAYARAJ VISWANATHAN",
      "userId": "05592669160963016277"
     },
     "user_tz": -330
    },
    "id": "bjjOat3W5exq",
    "outputId": "209ed694-b276-4b73-b56f-d4600c847e27"
   },
   "outputs": [
    {
     "name": "stdout",
     "output_type": "stream",
     "text": [
      "X train shape:  (2200, 7)\n",
      "y train shape:  (2200, 1)\n"
     ]
    }
   ],
   "source": [
    "X_train = train_data.iloc[:, :-1]\n",
    "y_train = train_data.iloc[:, -1:]\n",
    "print(\"X train shape: \",X_train.shape)\n",
    "print(\"y train shape: \",y_train.shape)"
   ]
  },
  {
   "cell_type": "code",
   "execution_count": 5,
   "metadata": {
    "colab": {
     "base_uri": "https://localhost:8080/"
    },
    "executionInfo": {
     "elapsed": 4,
     "status": "ok",
     "timestamp": 1676109433667,
     "user": {
      "displayName": "JAYARAJ VISWANATHAN",
      "userId": "05592669160963016277"
     },
     "user_tz": -330
    },
    "id": "0Cnmz_TD5e0j",
    "outputId": "3d46f52f-714d-4282-dff7-9663c3345ce0"
   },
   "outputs": [
    {
     "name": "stdout",
     "output_type": "stream",
     "text": [
      "Standardized array:  [-0.53531619 -0.46806733 -0.52308913  1.18564322 -0.36719405  2.13935429\n",
      " -0.5169756  -0.91435521]\n",
      "Normalized array:  [1.24140411e+02 1.46140411e+02 1.28140411e+02 6.87140411e+02\n",
      " 1.79140411e+02 9.99140411e+02 1.30140411e+02 1.40410959e-01]\n"
     ]
    }
   ],
   "source": [
    "x = np.array([1,23,5,564,56,876,7,-123])\n",
    "\n",
    "standardized_X = (x - np.mean(x)) / np.std(x)\n",
    "normalized_X = (x-np.min(x) / np.max(x) - np.min(x))\n",
    "print(\"Standardized array: \",standardized_X)\n",
    "print(\"Normalized array: \",normalized_X )"
   ]
  },
  {
   "cell_type": "code",
   "execution_count": 6,
   "metadata": {
    "executionInfo": {
     "elapsed": 2,
     "status": "ok",
     "timestamp": 1676109520546,
     "user": {
      "displayName": "JAYARAJ VISWANATHAN",
      "userId": "05592669160963016277"
     },
     "user_tz": -330
    },
    "id": "fiSjuOby5e27"
   },
   "outputs": [],
   "source": [
    "from sklearn.preprocessing import StandardScaler\n",
    "stds = StandardScaler()\n",
    "x = x.reshape(-1,1)  # for sklearn methods. they use two dimensional vectors\n",
    "x = stds.fit_transform(x)"
   ]
  },
  {
   "cell_type": "code",
   "execution_count": 7,
   "metadata": {
    "executionInfo": {
     "elapsed": 4,
     "status": "ok",
     "timestamp": 1676109521479,
     "user": {
      "displayName": "JAYARAJ VISWANATHAN",
      "userId": "05592669160963016277"
     },
     "user_tz": -330
    },
    "id": "ujadc0eW5e5A"
   },
   "outputs": [],
   "source": [
    "class NeuralNet(object):\n",
    "    def __init__(self):\n",
    "        # Generate random numbers\n",
    "        np.random.seed(1)\n",
    "        \n",
    "        # Assign random weights to a 3 * 1 matrix\n",
    "        self.synaptic_weights = 2 * np.random.random((3, 1)) - 1\n",
    "        \n",
    "    # The sigmoid function method\n",
    "    def _sigmoid(self,x):\n",
    "        return 1 / (1 + np.exp(-x))\n",
    "    \n",
    "    # Derivative sigmoid\n",
    "    def derivative_sigmoid(self, x):\n",
    "        return x * (1 - x)\n",
    "    \n",
    "    # Train the neural network and adjust the weights each time\n",
    "    def train(self, inputs, outputs, iteration_number):\n",
    "        for iteration in range(iteration_number):     \n",
    "        \n",
    "            # Pass the training set through network\n",
    "            output = self.learn(inputs)\n",
    "        \n",
    "            # Calculate the error\n",
    "            error = outputs - output\n",
    "        \n",
    "            # Adjust the weights by a factor\n",
    "            factor = np.dot(inputs.T, error * self.derivative_sigmoid(output))\n",
    "            self.synaptic_weights += factor\n",
    "        \n",
    "    # calculate z    \n",
    "    def learn(self, test_inputs):\n",
    "        return self._sigmoid(np.dot(test_inputs, self.synaptic_weights))"
   ]
  },
  {
   "cell_type": "code",
   "execution_count": 8,
   "metadata": {
    "colab": {
     "base_uri": "https://localhost:8080/"
    },
    "executionInfo": {
     "elapsed": 2,
     "status": "ok",
     "timestamp": 1676109530522,
     "user": {
      "displayName": "JAYARAJ VISWANATHAN",
      "userId": "05592669160963016277"
     },
     "user_tz": -330
    },
    "id": "-4Mlvkve5e7O",
    "outputId": "63fa0e2b-f29b-406c-81b0-34f35e2a2bf7"
   },
   "outputs": [
    {
     "name": "stdout",
     "output_type": "stream",
     "text": [
      "Our test example output is: 1\n"
     ]
    }
   ],
   "source": [
    "# Initialize\n",
    "neural_net = NeuralNet()\n",
    "\n",
    "# The training set\n",
    "inputs = np.array([[0, 1, 1], [1, 0, 0], [1, 0, 1]])\n",
    "outputs = np.array([[1, 0, 1]]).T\n",
    "\n",
    "# train the neural network\n",
    "neural_net.train(inputs, outputs, 50)\n",
    "\n",
    "test_inputs = np.array([1, 0, 1])\n",
    "threshold = 0.5\n",
    "if neural_net.learn(test_inputs) >= threshold:\n",
    "    print(\"Our test example output is: 1\")\n",
    "else:\n",
    "    print(\"Our test example output is: 0\")"
   ]
  },
  {
   "cell_type": "code",
   "execution_count": 9,
   "metadata": {
    "colab": {
     "base_uri": "https://localhost:8080/",
     "height": 487
    },
    "executionInfo": {
     "elapsed": 4,
     "status": "ok",
     "timestamp": 1676109534595,
     "user": {
      "displayName": "JAYARAJ VISWANATHAN",
      "userId": "05592669160963016277"
     },
     "user_tz": -330
    },
    "id": "iHVhLBqc5e-S",
    "outputId": "9450215b-1fcc-4ad5-e320-a28856155d9f"
   },
   "outputs": [
    {
     "data": {
      "text/html": [
       "<div>\n",
       "<style scoped>\n",
       "    .dataframe tbody tr th:only-of-type {\n",
       "        vertical-align: middle;\n",
       "    }\n",
       "\n",
       "    .dataframe tbody tr th {\n",
       "        vertical-align: top;\n",
       "    }\n",
       "\n",
       "    .dataframe thead th {\n",
       "        text-align: right;\n",
       "    }\n",
       "</style>\n",
       "<table border=\"1\" class=\"dataframe\">\n",
       "  <thead>\n",
       "    <tr style=\"text-align: right;\">\n",
       "      <th></th>\n",
       "      <th>label_apple</th>\n",
       "      <th>label_banana</th>\n",
       "      <th>label_blackgram</th>\n",
       "      <th>label_chickpea</th>\n",
       "      <th>label_coconut</th>\n",
       "      <th>label_coffee</th>\n",
       "      <th>label_cotton</th>\n",
       "      <th>label_grapes</th>\n",
       "      <th>label_jute</th>\n",
       "      <th>label_kidneybeans</th>\n",
       "      <th>...</th>\n",
       "      <th>label_mango</th>\n",
       "      <th>label_mothbeans</th>\n",
       "      <th>label_mungbean</th>\n",
       "      <th>label_muskmelon</th>\n",
       "      <th>label_orange</th>\n",
       "      <th>label_papaya</th>\n",
       "      <th>label_pigeonpeas</th>\n",
       "      <th>label_pomegranate</th>\n",
       "      <th>label_rice</th>\n",
       "      <th>label_watermelon</th>\n",
       "    </tr>\n",
       "  </thead>\n",
       "  <tbody>\n",
       "    <tr>\n",
       "      <th>0</th>\n",
       "      <td>0</td>\n",
       "      <td>0</td>\n",
       "      <td>0</td>\n",
       "      <td>0</td>\n",
       "      <td>0</td>\n",
       "      <td>0</td>\n",
       "      <td>0</td>\n",
       "      <td>0</td>\n",
       "      <td>0</td>\n",
       "      <td>0</td>\n",
       "      <td>...</td>\n",
       "      <td>0</td>\n",
       "      <td>0</td>\n",
       "      <td>0</td>\n",
       "      <td>0</td>\n",
       "      <td>0</td>\n",
       "      <td>0</td>\n",
       "      <td>0</td>\n",
       "      <td>0</td>\n",
       "      <td>1</td>\n",
       "      <td>0</td>\n",
       "    </tr>\n",
       "    <tr>\n",
       "      <th>1</th>\n",
       "      <td>0</td>\n",
       "      <td>0</td>\n",
       "      <td>0</td>\n",
       "      <td>0</td>\n",
       "      <td>0</td>\n",
       "      <td>0</td>\n",
       "      <td>0</td>\n",
       "      <td>0</td>\n",
       "      <td>0</td>\n",
       "      <td>0</td>\n",
       "      <td>...</td>\n",
       "      <td>0</td>\n",
       "      <td>0</td>\n",
       "      <td>0</td>\n",
       "      <td>0</td>\n",
       "      <td>0</td>\n",
       "      <td>0</td>\n",
       "      <td>0</td>\n",
       "      <td>0</td>\n",
       "      <td>1</td>\n",
       "      <td>0</td>\n",
       "    </tr>\n",
       "    <tr>\n",
       "      <th>2</th>\n",
       "      <td>0</td>\n",
       "      <td>0</td>\n",
       "      <td>0</td>\n",
       "      <td>0</td>\n",
       "      <td>0</td>\n",
       "      <td>0</td>\n",
       "      <td>0</td>\n",
       "      <td>0</td>\n",
       "      <td>0</td>\n",
       "      <td>0</td>\n",
       "      <td>...</td>\n",
       "      <td>0</td>\n",
       "      <td>0</td>\n",
       "      <td>0</td>\n",
       "      <td>0</td>\n",
       "      <td>0</td>\n",
       "      <td>0</td>\n",
       "      <td>0</td>\n",
       "      <td>0</td>\n",
       "      <td>1</td>\n",
       "      <td>0</td>\n",
       "    </tr>\n",
       "    <tr>\n",
       "      <th>3</th>\n",
       "      <td>0</td>\n",
       "      <td>0</td>\n",
       "      <td>0</td>\n",
       "      <td>0</td>\n",
       "      <td>0</td>\n",
       "      <td>0</td>\n",
       "      <td>0</td>\n",
       "      <td>0</td>\n",
       "      <td>0</td>\n",
       "      <td>0</td>\n",
       "      <td>...</td>\n",
       "      <td>0</td>\n",
       "      <td>0</td>\n",
       "      <td>0</td>\n",
       "      <td>0</td>\n",
       "      <td>0</td>\n",
       "      <td>0</td>\n",
       "      <td>0</td>\n",
       "      <td>0</td>\n",
       "      <td>1</td>\n",
       "      <td>0</td>\n",
       "    </tr>\n",
       "    <tr>\n",
       "      <th>4</th>\n",
       "      <td>0</td>\n",
       "      <td>0</td>\n",
       "      <td>0</td>\n",
       "      <td>0</td>\n",
       "      <td>0</td>\n",
       "      <td>0</td>\n",
       "      <td>0</td>\n",
       "      <td>0</td>\n",
       "      <td>0</td>\n",
       "      <td>0</td>\n",
       "      <td>...</td>\n",
       "      <td>0</td>\n",
       "      <td>0</td>\n",
       "      <td>0</td>\n",
       "      <td>0</td>\n",
       "      <td>0</td>\n",
       "      <td>0</td>\n",
       "      <td>0</td>\n",
       "      <td>0</td>\n",
       "      <td>1</td>\n",
       "      <td>0</td>\n",
       "    </tr>\n",
       "    <tr>\n",
       "      <th>...</th>\n",
       "      <td>...</td>\n",
       "      <td>...</td>\n",
       "      <td>...</td>\n",
       "      <td>...</td>\n",
       "      <td>...</td>\n",
       "      <td>...</td>\n",
       "      <td>...</td>\n",
       "      <td>...</td>\n",
       "      <td>...</td>\n",
       "      <td>...</td>\n",
       "      <td>...</td>\n",
       "      <td>...</td>\n",
       "      <td>...</td>\n",
       "      <td>...</td>\n",
       "      <td>...</td>\n",
       "      <td>...</td>\n",
       "      <td>...</td>\n",
       "      <td>...</td>\n",
       "      <td>...</td>\n",
       "      <td>...</td>\n",
       "      <td>...</td>\n",
       "    </tr>\n",
       "    <tr>\n",
       "      <th>2195</th>\n",
       "      <td>0</td>\n",
       "      <td>0</td>\n",
       "      <td>0</td>\n",
       "      <td>0</td>\n",
       "      <td>0</td>\n",
       "      <td>1</td>\n",
       "      <td>0</td>\n",
       "      <td>0</td>\n",
       "      <td>0</td>\n",
       "      <td>0</td>\n",
       "      <td>...</td>\n",
       "      <td>0</td>\n",
       "      <td>0</td>\n",
       "      <td>0</td>\n",
       "      <td>0</td>\n",
       "      <td>0</td>\n",
       "      <td>0</td>\n",
       "      <td>0</td>\n",
       "      <td>0</td>\n",
       "      <td>0</td>\n",
       "      <td>0</td>\n",
       "    </tr>\n",
       "    <tr>\n",
       "      <th>2196</th>\n",
       "      <td>0</td>\n",
       "      <td>0</td>\n",
       "      <td>0</td>\n",
       "      <td>0</td>\n",
       "      <td>0</td>\n",
       "      <td>1</td>\n",
       "      <td>0</td>\n",
       "      <td>0</td>\n",
       "      <td>0</td>\n",
       "      <td>0</td>\n",
       "      <td>...</td>\n",
       "      <td>0</td>\n",
       "      <td>0</td>\n",
       "      <td>0</td>\n",
       "      <td>0</td>\n",
       "      <td>0</td>\n",
       "      <td>0</td>\n",
       "      <td>0</td>\n",
       "      <td>0</td>\n",
       "      <td>0</td>\n",
       "      <td>0</td>\n",
       "    </tr>\n",
       "    <tr>\n",
       "      <th>2197</th>\n",
       "      <td>0</td>\n",
       "      <td>0</td>\n",
       "      <td>0</td>\n",
       "      <td>0</td>\n",
       "      <td>0</td>\n",
       "      <td>1</td>\n",
       "      <td>0</td>\n",
       "      <td>0</td>\n",
       "      <td>0</td>\n",
       "      <td>0</td>\n",
       "      <td>...</td>\n",
       "      <td>0</td>\n",
       "      <td>0</td>\n",
       "      <td>0</td>\n",
       "      <td>0</td>\n",
       "      <td>0</td>\n",
       "      <td>0</td>\n",
       "      <td>0</td>\n",
       "      <td>0</td>\n",
       "      <td>0</td>\n",
       "      <td>0</td>\n",
       "    </tr>\n",
       "    <tr>\n",
       "      <th>2198</th>\n",
       "      <td>0</td>\n",
       "      <td>0</td>\n",
       "      <td>0</td>\n",
       "      <td>0</td>\n",
       "      <td>0</td>\n",
       "      <td>1</td>\n",
       "      <td>0</td>\n",
       "      <td>0</td>\n",
       "      <td>0</td>\n",
       "      <td>0</td>\n",
       "      <td>...</td>\n",
       "      <td>0</td>\n",
       "      <td>0</td>\n",
       "      <td>0</td>\n",
       "      <td>0</td>\n",
       "      <td>0</td>\n",
       "      <td>0</td>\n",
       "      <td>0</td>\n",
       "      <td>0</td>\n",
       "      <td>0</td>\n",
       "      <td>0</td>\n",
       "    </tr>\n",
       "    <tr>\n",
       "      <th>2199</th>\n",
       "      <td>0</td>\n",
       "      <td>0</td>\n",
       "      <td>0</td>\n",
       "      <td>0</td>\n",
       "      <td>0</td>\n",
       "      <td>1</td>\n",
       "      <td>0</td>\n",
       "      <td>0</td>\n",
       "      <td>0</td>\n",
       "      <td>0</td>\n",
       "      <td>...</td>\n",
       "      <td>0</td>\n",
       "      <td>0</td>\n",
       "      <td>0</td>\n",
       "      <td>0</td>\n",
       "      <td>0</td>\n",
       "      <td>0</td>\n",
       "      <td>0</td>\n",
       "      <td>0</td>\n",
       "      <td>0</td>\n",
       "      <td>0</td>\n",
       "    </tr>\n",
       "  </tbody>\n",
       "</table>\n",
       "<p>2200 rows × 22 columns</p>\n",
       "</div>"
      ],
      "text/plain": [
       "      label_apple  label_banana  label_blackgram  label_chickpea  \\\n",
       "0               0             0                0               0   \n",
       "1               0             0                0               0   \n",
       "2               0             0                0               0   \n",
       "3               0             0                0               0   \n",
       "4               0             0                0               0   \n",
       "...           ...           ...              ...             ...   \n",
       "2195            0             0                0               0   \n",
       "2196            0             0                0               0   \n",
       "2197            0             0                0               0   \n",
       "2198            0             0                0               0   \n",
       "2199            0             0                0               0   \n",
       "\n",
       "      label_coconut  label_coffee  label_cotton  label_grapes  label_jute  \\\n",
       "0                 0             0             0             0           0   \n",
       "1                 0             0             0             0           0   \n",
       "2                 0             0             0             0           0   \n",
       "3                 0             0             0             0           0   \n",
       "4                 0             0             0             0           0   \n",
       "...             ...           ...           ...           ...         ...   \n",
       "2195              0             1             0             0           0   \n",
       "2196              0             1             0             0           0   \n",
       "2197              0             1             0             0           0   \n",
       "2198              0             1             0             0           0   \n",
       "2199              0             1             0             0           0   \n",
       "\n",
       "      label_kidneybeans  ...  label_mango  label_mothbeans  label_mungbean  \\\n",
       "0                     0  ...            0                0               0   \n",
       "1                     0  ...            0                0               0   \n",
       "2                     0  ...            0                0               0   \n",
       "3                     0  ...            0                0               0   \n",
       "4                     0  ...            0                0               0   \n",
       "...                 ...  ...          ...              ...             ...   \n",
       "2195                  0  ...            0                0               0   \n",
       "2196                  0  ...            0                0               0   \n",
       "2197                  0  ...            0                0               0   \n",
       "2198                  0  ...            0                0               0   \n",
       "2199                  0  ...            0                0               0   \n",
       "\n",
       "      label_muskmelon  label_orange  label_papaya  label_pigeonpeas  \\\n",
       "0                   0             0             0                 0   \n",
       "1                   0             0             0                 0   \n",
       "2                   0             0             0                 0   \n",
       "3                   0             0             0                 0   \n",
       "4                   0             0             0                 0   \n",
       "...               ...           ...           ...               ...   \n",
       "2195                0             0             0                 0   \n",
       "2196                0             0             0                 0   \n",
       "2197                0             0             0                 0   \n",
       "2198                0             0             0                 0   \n",
       "2199                0             0             0                 0   \n",
       "\n",
       "      label_pomegranate  label_rice  label_watermelon  \n",
       "0                     0           1                 0  \n",
       "1                     0           1                 0  \n",
       "2                     0           1                 0  \n",
       "3                     0           1                 0  \n",
       "4                     0           1                 0  \n",
       "...                 ...         ...               ...  \n",
       "2195                  0           0                 0  \n",
       "2196                  0           0                 0  \n",
       "2197                  0           0                 0  \n",
       "2198                  0           0                 0  \n",
       "2199                  0           0                 0  \n",
       "\n",
       "[2200 rows x 22 columns]"
      ]
     },
     "execution_count": 9,
     "metadata": {},
     "output_type": "execute_result"
    }
   ],
   "source": [
    "# transform into dummies for y_train (prognosis variable)\n",
    "y_train_dum = pd.get_dummies(y_train)\n",
    "y_train_dum"
   ]
  },
  {
   "cell_type": "code",
   "execution_count": 10,
   "metadata": {
    "executionInfo": {
     "elapsed": 3290,
     "status": "ok",
     "timestamp": 1676109626047,
     "user": {
      "displayName": "JAYARAJ VISWANATHAN",
      "userId": "05592669160963016277"
     },
     "user_tz": -330
    },
    "id": "sELNWpJ86icn"
   },
   "outputs": [],
   "source": [
    "# import tensorflow and keras\n",
    "import tensorflow as tf\n",
    "from tensorflow.keras.models import Sequential   # used for initialize ANN model\n",
    "from tensorflow.keras import layers   # used for different layer structure\n",
    "from tensorflow.keras.layers import Dense"
   ]
  },
  {
   "cell_type": "code",
   "execution_count": 11,
   "metadata": {
    "executionInfo": {
     "elapsed": 4,
     "status": "ok",
     "timestamp": 1676109628564,
     "user": {
      "displayName": "JAYARAJ VISWANATHAN",
      "userId": "05592669160963016277"
     },
     "user_tz": -330
    },
    "id": "xd-c61x76kEd"
   },
   "outputs": [],
   "source": [
    "classifier = Sequential()"
   ]
  },
  {
   "cell_type": "code",
   "execution_count": 12,
   "metadata": {
    "executionInfo": {
     "elapsed": 3,
     "status": "ok",
     "timestamp": 1676109657721,
     "user": {
      "displayName": "JAYARAJ VISWANATHAN",
      "userId": "05592669160963016277"
     },
     "user_tz": -330
    },
    "id": "d8-XOk1W6l7X"
   },
   "outputs": [],
   "source": [
    "# adding first hidden layer with input layer. there is init parameter that represents how to initialize weights\n",
    "classifier.add(Dense(64, activation = \"relu\", input_dim = X_train.shape[1]))\n",
    "# adding second hidden layer\n",
    "classifier.add(Dense(32, activation = \"relu\"))\n",
    "classifier.add(Dense(16, activation = \"relu\"))\n",
    "# adding last layer\n",
    "classifier.add(Dense(y_train_dum.shape[1], activation = \"softmax\"))"
   ]
  },
  {
   "cell_type": "code",
   "execution_count": 13,
   "metadata": {
    "colab": {
     "base_uri": "https://localhost:8080/"
    },
    "executionInfo": {
     "elapsed": 762,
     "status": "ok",
     "timestamp": 1676109709295,
     "user": {
      "displayName": "JAYARAJ VISWANATHAN",
      "userId": "05592669160963016277"
     },
     "user_tz": -330
    },
    "id": "xX_YUgXJ6n0x",
    "outputId": "edb8a551-c73d-4c0f-d5d4-30cc8058e8a5"
   },
   "outputs": [
    {
     "name": "stdout",
     "output_type": "stream",
     "text": [
      "Model: \"sequential\"\n",
      "_________________________________________________________________\n",
      " Layer (type)                Output Shape              Param #   \n",
      "=================================================================\n",
      " dense (Dense)               (None, 64)                512       \n",
      "                                                                 \n",
      " dense_1 (Dense)             (None, 32)                2080      \n",
      "                                                                 \n",
      " dense_2 (Dense)             (None, 16)                528       \n",
      "                                                                 \n",
      " dense_3 (Dense)             (None, 22)                374       \n",
      "                                                                 \n",
      "=================================================================\n",
      "Total params: 3,494\n",
      "Trainable params: 3,494\n",
      "Non-trainable params: 0\n",
      "_________________________________________________________________\n"
     ]
    }
   ],
   "source": [
    "classifier.compile(optimizer = \"adam\", loss = \"categorical_crossentropy\", metrics = [\"accuracy\"])\n",
    "classifier.summary()"
   ]
  },
  {
   "cell_type": "code",
   "execution_count": 14,
   "metadata": {
    "colab": {
     "base_uri": "https://localhost:8080/"
    },
    "executionInfo": {
     "elapsed": 11311,
     "status": "ok",
     "timestamp": 1676110003983,
     "user": {
      "displayName": "JAYARAJ VISWANATHAN",
      "userId": "05592669160963016277"
     },
     "user_tz": -330
    },
    "id": "3DK39wAX6qHv",
    "outputId": "16f52d8d-ce24-4f83-beed-4c6d3e3a74c6"
   },
   "outputs": [
    {
     "name": "stdout",
     "output_type": "stream",
     "text": [
      "Epoch 1/50\n",
      "74/74 [==============================] - 1s 2ms/step - loss: 7.4801 - accuracy: 0.1268\n",
      "Epoch 2/50\n",
      "74/74 [==============================] - 0s 2ms/step - loss: 2.1982 - accuracy: 0.3473\n",
      "Epoch 3/50\n",
      "74/74 [==============================] - 0s 2ms/step - loss: 1.8360 - accuracy: 0.4859\n",
      "Epoch 4/50\n",
      "74/74 [==============================] - 0s 2ms/step - loss: 1.5510 - accuracy: 0.5355\n",
      "Epoch 5/50\n",
      "74/74 [==============================] - 0s 2ms/step - loss: 1.2803 - accuracy: 0.5977\n",
      "Epoch 6/50\n",
      "74/74 [==============================] - 0s 2ms/step - loss: 1.0855 - accuracy: 0.6382\n",
      "Epoch 7/50\n",
      "74/74 [==============================] - 0s 2ms/step - loss: 0.9100 - accuracy: 0.6982\n",
      "Epoch 8/50\n",
      "74/74 [==============================] - 0s 2ms/step - loss: 0.6526 - accuracy: 0.7923\n",
      "Epoch 9/50\n",
      "74/74 [==============================] - 0s 2ms/step - loss: 0.4675 - accuracy: 0.8568\n",
      "Epoch 10/50\n",
      "74/74 [==============================] - 0s 2ms/step - loss: 0.3615 - accuracy: 0.8941\n",
      "Epoch 11/50\n",
      "74/74 [==============================] - 0s 2ms/step - loss: 0.2979 - accuracy: 0.8955\n",
      "Epoch 12/50\n",
      "74/74 [==============================] - 0s 2ms/step - loss: 0.2381 - accuracy: 0.9282\n",
      "Epoch 13/50\n",
      "74/74 [==============================] - 0s 1ms/step - loss: 0.2192 - accuracy: 0.9282\n",
      "Epoch 14/50\n",
      "74/74 [==============================] - 0s 1ms/step - loss: 0.1985 - accuracy: 0.9295\n",
      "Epoch 15/50\n",
      "74/74 [==============================] - 0s 1ms/step - loss: 0.1782 - accuracy: 0.9400\n",
      "Epoch 16/50\n",
      "74/74 [==============================] - 0s 2ms/step - loss: 0.1911 - accuracy: 0.9345\n",
      "Epoch 17/50\n",
      "74/74 [==============================] - 0s 2ms/step - loss: 0.1724 - accuracy: 0.9386\n",
      "Epoch 18/50\n",
      "74/74 [==============================] - 0s 2ms/step - loss: 0.1507 - accuracy: 0.9464\n",
      "Epoch 19/50\n",
      "74/74 [==============================] - 0s 2ms/step - loss: 0.1480 - accuracy: 0.9455\n",
      "Epoch 20/50\n",
      "74/74 [==============================] - 0s 2ms/step - loss: 0.1432 - accuracy: 0.9464\n",
      "Epoch 21/50\n",
      "74/74 [==============================] - 0s 2ms/step - loss: 0.1292 - accuracy: 0.9514\n",
      "Epoch 22/50\n",
      "74/74 [==============================] - 0s 1ms/step - loss: 0.1226 - accuracy: 0.9527\n",
      "Epoch 23/50\n",
      "74/74 [==============================] - 0s 2ms/step - loss: 0.1104 - accuracy: 0.9600\n",
      "Epoch 24/50\n",
      "74/74 [==============================] - 0s 2ms/step - loss: 0.1257 - accuracy: 0.9500\n",
      "Epoch 25/50\n",
      "74/74 [==============================] - 0s 2ms/step - loss: 0.1489 - accuracy: 0.9432\n",
      "Epoch 26/50\n",
      "74/74 [==============================] - 0s 2ms/step - loss: 0.1093 - accuracy: 0.9586\n",
      "Epoch 27/50\n",
      "74/74 [==============================] - 0s 2ms/step - loss: 0.1111 - accuracy: 0.9600\n",
      "Epoch 28/50\n",
      "74/74 [==============================] - 0s 2ms/step - loss: 0.1039 - accuracy: 0.9614\n",
      "Epoch 29/50\n",
      "74/74 [==============================] - 0s 2ms/step - loss: 0.1023 - accuracy: 0.9600\n",
      "Epoch 30/50\n",
      "74/74 [==============================] - 0s 2ms/step - loss: 0.1052 - accuracy: 0.9595\n",
      "Epoch 31/50\n",
      "74/74 [==============================] - 0s 2ms/step - loss: 0.0986 - accuracy: 0.9636\n",
      "Epoch 32/50\n",
      "74/74 [==============================] - 0s 2ms/step - loss: 0.1084 - accuracy: 0.9555\n",
      "Epoch 33/50\n",
      "74/74 [==============================] - 0s 2ms/step - loss: 0.1239 - accuracy: 0.9527\n",
      "Epoch 34/50\n",
      "74/74 [==============================] - 0s 2ms/step - loss: 0.1174 - accuracy: 0.9573\n",
      "Epoch 35/50\n",
      "74/74 [==============================] - 0s 2ms/step - loss: 0.0818 - accuracy: 0.9700\n",
      "Epoch 36/50\n",
      "74/74 [==============================] - 0s 2ms/step - loss: 0.0917 - accuracy: 0.9595\n",
      "Epoch 37/50\n",
      "74/74 [==============================] - 0s 2ms/step - loss: 0.0863 - accuracy: 0.9677\n",
      "Epoch 38/50\n",
      "74/74 [==============================] - 0s 2ms/step - loss: 0.0853 - accuracy: 0.9677\n",
      "Epoch 39/50\n",
      "74/74 [==============================] - 0s 2ms/step - loss: 0.0923 - accuracy: 0.9595\n",
      "Epoch 40/50\n",
      "74/74 [==============================] - 0s 2ms/step - loss: 0.0893 - accuracy: 0.9645\n",
      "Epoch 41/50\n",
      "74/74 [==============================] - 0s 2ms/step - loss: 0.1220 - accuracy: 0.9532\n",
      "Epoch 42/50\n",
      "74/74 [==============================] - 0s 2ms/step - loss: 0.0847 - accuracy: 0.9705\n",
      "Epoch 43/50\n",
      "74/74 [==============================] - 0s 2ms/step - loss: 0.0803 - accuracy: 0.9705\n",
      "Epoch 44/50\n",
      "74/74 [==============================] - 0s 2ms/step - loss: 0.0935 - accuracy: 0.9618\n",
      "Epoch 45/50\n",
      "74/74 [==============================] - 0s 2ms/step - loss: 0.0797 - accuracy: 0.9677\n",
      "Epoch 46/50\n",
      "74/74 [==============================] - 0s 2ms/step - loss: 0.0855 - accuracy: 0.9664\n",
      "Epoch 47/50\n",
      "74/74 [==============================] - 0s 2ms/step - loss: 0.0791 - accuracy: 0.9709\n",
      "Epoch 48/50\n",
      "74/74 [==============================] - 0s 2ms/step - loss: 0.1004 - accuracy: 0.9636\n",
      "Epoch 49/50\n",
      "74/74 [==============================] - 0s 2ms/step - loss: 0.0810 - accuracy: 0.9686\n",
      "Epoch 50/50\n",
      "74/74 [==============================] - 0s 2ms/step - loss: 0.0849 - accuracy: 0.9627\n"
     ]
    }
   ],
   "source": [
    "history = classifier.fit(X_train, y_train_dum, epochs = 50, batch_size = 30)"
   ]
  },
  {
   "cell_type": "code",
   "execution_count": 15,
   "metadata": {
    "id": "peFAPFmo6tak"
   },
   "outputs": [
    {
     "data": {
      "text/plain": [
       "[0.12681818008422852,\n",
       " 0.34727272391319275,\n",
       " 0.485909104347229,\n",
       " 0.5354545712471008,\n",
       " 0.5977272987365723,\n",
       " 0.6381818056106567,\n",
       " 0.6981818079948425,\n",
       " 0.7922727465629578,\n",
       " 0.8568181991577148,\n",
       " 0.8940908908843994,\n",
       " 0.8954545259475708,\n",
       " 0.9281818270683289,\n",
       " 0.9281818270683289,\n",
       " 0.9295454621315002,\n",
       " 0.9399999976158142,\n",
       " 0.9345454573631287,\n",
       " 0.9386363625526428,\n",
       " 0.946363627910614,\n",
       " 0.9454545378684998,\n",
       " 0.946363627910614,\n",
       " 0.9513636231422424,\n",
       " 0.9527272582054138,\n",
       " 0.9599999785423279,\n",
       " 0.949999988079071,\n",
       " 0.9431818127632141,\n",
       " 0.9586363434791565,\n",
       " 0.9599999785423279,\n",
       " 0.9613636136054993,\n",
       " 0.9599999785423279,\n",
       " 0.9595454335212708,\n",
       " 0.9636363387107849,\n",
       " 0.9554545283317566,\n",
       " 0.9527272582054138,\n",
       " 0.9572727084159851,\n",
       " 0.9700000286102295,\n",
       " 0.9595454335212708,\n",
       " 0.9677272439002991,\n",
       " 0.9677272439002991,\n",
       " 0.9595454335212708,\n",
       " 0.9645454287528992,\n",
       " 0.953181803226471,\n",
       " 0.9704545736312866,\n",
       " 0.9704545736312866,\n",
       " 0.9618181586265564,\n",
       " 0.9677272439002991,\n",
       " 0.9663636088371277,\n",
       " 0.9709091186523438,\n",
       " 0.9636363387107849,\n",
       " 0.9686363339424133,\n",
       " 0.9627272486686707]"
      ]
     },
     "execution_count": 15,
     "metadata": {},
     "output_type": "execute_result"
    }
   ],
   "source": [
    "history.history[\"accuracy\"]"
   ]
  },
  {
   "cell_type": "code",
   "execution_count": 16,
   "metadata": {
    "colab": {
     "base_uri": "https://localhost:8080/",
     "height": 295
    },
    "executionInfo": {
     "elapsed": 8,
     "status": "ok",
     "timestamp": 1676110012490,
     "user": {
      "displayName": "JAYARAJ VISWANATHAN",
      "userId": "05592669160963016277"
     },
     "user_tz": -330
    },
    "id": "lqHBE2iM6uqO",
    "outputId": "96581471-ec87-4343-8c1d-3347fca9de10"
   },
   "outputs": [
    {
     "data": {
      "image/png": "[encoded data removed]",
      "text/plain": [
       "<Figure size 640x480 with 1 Axes>"
      ]
     },
     "metadata": {},
     "output_type": "display_data"
    }
   ],
   "source": [
    "import matplotlib.pyplot as plt\n",
    "plt.plot(history.history[\"accuracy\"])\n",
    "plt.title(\"Model accuracy\")\n",
    "plt.xlabel(\"Epoch\")\n",
    "plt.ylabel(\"Accuracy score\")\n",
    "plt.show()"
   ]
  },
  {
   "cell_type": "code",
   "execution_count": 17,
   "metadata": {
    "colab": {
     "base_uri": "https://localhost:8080/",
     "height": 295
    },
    "executionInfo": {
     "elapsed": 5,
     "status": "ok",
     "timestamp": 1676110014741,
     "user": {
      "displayName": "JAYARAJ VISWANATHAN",
      "userId": "05592669160963016277"
     },
     "user_tz": -330
    },
    "id": "Ymga18pS6vNm",
    "outputId": "8e75cf4d-119b-41de-e376-1146fb6cc7b6"
   },
   "outputs": [
    {
     "data": {
      "image/png": "[encoded data removed]",
      "text/plain": [
       "<Figure size 640x480 with 1 Axes>"
      ]
     },
     "metadata": {},
     "output_type": "display_data"
    }
   ],
   "source": [
    "plt.plot(history.history[\"loss\"])\n",
    "plt.title(\"Model loss\")\n",
    "plt.xlabel(\"Epoch\")\n",
    "plt.ylabel(\"Loss\")\n",
    "plt.show()"
   ]
  },
  {
   "cell_type": "code",
   "execution_count": 18,
   "metadata": {
    "executionInfo": {
     "elapsed": 3,
     "status": "ok",
     "timestamp": 1676110033999,
     "user": {
      "displayName": "JAYARAJ VISWANATHAN",
      "userId": "05592669160963016277"
     },
     "user_tz": -330
    },
    "id": "kk5kyWBe6vUs"
   },
   "outputs": [],
   "source": [
    "classifier.save('t1.h5')"
   ]
  }
 ],
 "metadata": {
  "colab": {
   "authorship_tag": "ABX9TyPRv9cev/pqg4OebGxjcI6d",
   "provenance": []
  },
  "kernelspec": {
   "display_name": "Python 3 (ipykernel)",
   "language": "python",
   "name": "python3"
  },
  "language_info": {
   "codemirror_mode": {
    "name": "ipython",
    "version": 3
   },
   "file_extension": ".py",
   "mimetype": "text/x-python",
   "name": "python",
   "nbconvert_exporter": "python",
   "pygments_lexer": "ipython3",
   "version": "3.9.13"
  }
 },
 "nbformat": 4,
 "nbformat_minor": 1
}
